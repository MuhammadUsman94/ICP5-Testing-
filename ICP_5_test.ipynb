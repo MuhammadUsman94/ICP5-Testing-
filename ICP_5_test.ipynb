{
  "nbformat": 4,
  "nbformat_minor": 0,
  "metadata": {
    "colab": {
      "name": "ICP_5_test.ipynb",
      "provenance": [],
      "collapsed_sections": [],
      "include_colab_link": true
    },
    "kernelspec": {
      "name": "python3",
      "display_name": "Python 3"
    }
  },
  "cells": [
    {
      "cell_type": "markdown",
      "metadata": {
        "id": "view-in-github",
        "colab_type": "text"
      },
      "source": [
        "<a href=\"https://colab.research.google.com/github/MuhammadUsman94/ICP5-Testing-/blob/master/ICP_5_test.ipynb\" target=\"_parent\"><img src=\"https://colab.research.google.com/assets/colab-badge.svg\" alt=\"Open In Colab\"/></a>"
      ]
    },
    {
      "cell_type": "markdown",
      "metadata": {
        "id": "Jn36mR6gNhiq"
      },
      "source": [
        "In this example, we will be using the famous CIFAR-10 dataset. CIFAR-10 is a large image dataset containing over 60,000 images representing 10 different classes of objects like cats, planes, and cars.\n",
        "\n",
        "The images are full-color RGB, but they are fairly small, only 32 x 32. One great thing about the CIFAR-10 dataset is that it comes prepackaged with Keras, so it is very easy to load up the dataset and the images need very little preprocessing.\n",
        "\n",
        "We're going to be using a random seed here so that the results achieved in this ICP can be replicated by you,"
      ]
    },
    {
      "cell_type": "markdown",
      "metadata": {
        "id": "75NrV_lFnLeZ"
      },
      "source": [
        "LABELS \n",
        "* airplane\n",
        "* automobile\n",
        "* bird\n",
        "* cat\n",
        "* deer\n",
        "* dog\n",
        "* frog\n",
        "* horse\n",
        "* ship\n",
        "* truck"
      ]
    },
    {
      "cell_type": "code",
      "metadata": {
        "id": "WDbBpn7pG3YH"
      },
      "source": [
        "!pip install -q tf-nightly\n",
        "import matplotlib.pyplot as plt\n",
        "import numpy as np\n",
        "import os\n",
        "import PIL\n",
        "import tensorflow as tf\n",
        "from tensorflow import keras\n",
        "from tensorflow.keras import layers\n",
        "from tensorflow.keras.models import Sequential"
      ],
      "execution_count": 4,
      "outputs": []
    },
    {
      "cell_type": "code",
      "metadata": {
        "id": "6UYrFRjvDESR"
      },
      "source": [
        "data = tf.keras.datasets.cifar10\n"
      ],
      "execution_count": 7,
      "outputs": []
    },
    {
      "cell_type": "code",
      "metadata": {
        "id": "9MHLK3aPDE_B"
      },
      "source": [
        "(train_images, train_labels), (test_images, test_labels) = data.load_data()\n"
      ],
      "execution_count": 8,
      "outputs": []
    },
    {
      "cell_type": "code",
      "metadata": {
        "id": "8m_obLhBDcLi",
        "outputId": "16146599-ecc5-47ae-a2d7-0bfb29384087",
        "colab": {
          "base_uri": "https://localhost:8080/",
          "height": 34
        }
      },
      "source": [
        "train_images.shape\n"
      ],
      "execution_count": 4,
      "outputs": [
        {
          "output_type": "execute_result",
          "data": {
            "text/plain": [
              "(50000, 32, 32, 3)"
            ]
          },
          "metadata": {
            "tags": []
          },
          "execution_count": 4
        }
      ]
    },
    {
      "cell_type": "code",
      "metadata": {
        "id": "8kstgvOgDh-0",
        "outputId": "a8bfd069-c83f-490f-f2b9-fe7220bb8c7b",
        "colab": {
          "base_uri": "https://localhost:8080/",
          "height": 34
        }
      },
      "source": [
        "test_images.shape\n"
      ],
      "execution_count": 5,
      "outputs": [
        {
          "output_type": "execute_result",
          "data": {
            "text/plain": [
              "(10000, 32, 32, 3)"
            ]
          },
          "metadata": {
            "tags": []
          },
          "execution_count": 5
        }
      ]
    },
    {
      "cell_type": "code",
      "metadata": {
        "id": "peq36rg_DknX",
        "outputId": "3e24ac2c-537e-4af8-c4a0-e6f73f3a9580",
        "colab": {
          "base_uri": "https://localhost:8080/",
          "height": 34
        }
      },
      "source": [
        "print(train_labels[0])\n"
      ],
      "execution_count": 6,
      "outputs": [
        {
          "output_type": "stream",
          "text": [
            "[6]\n"
          ],
          "name": "stdout"
        }
      ]
    },
    {
      "cell_type": "code",
      "metadata": {
        "id": "B4PfvckUDoBx",
        "outputId": "1a5b9994-f64f-4b39-a452-ea52e7ab74c6",
        "colab": {
          "base_uri": "https://localhost:8080/",
          "height": 266
        }
      },
      "source": [
        "plt.figure()\n",
        "plt.imshow(train_images[1])\n",
        "plt.colorbar()\n",
        "plt.grid(False)\n",
        "\n",
        "plt.show()"
      ],
      "execution_count": 7,
      "outputs": [
        {
          "output_type": "display_data",
          "data": {
            "image/png": "[encoded data removed]",
            "text/plain": [
              "<Figure size 432x288 with 2 Axes>"
            ]
          },
          "metadata": {
            "tags": [],
            "needs_background": "light"
          }
        }
      ]
    },
    {
      "cell_type": "code",
      "metadata": {
        "id": "m5XUuJIxDs4O",
        "outputId": "d07d896b-d27b-4e09-da17-c0e4f75a8ed9",
        "colab": {
          "base_uri": "https://localhost:8080/",
          "height": 192
        }
      },
      "source": [
        "for i in range(6):\n",
        "\t# define subplot\n",
        "\tplt.subplot(330 + 1 + i)\n",
        "\t# plot raw pixel data\n",
        "\tplt.imshow(train_images[i])\n",
        "plt.show()"
      ],
      "execution_count": 8,
      "outputs": [
        {
          "output_type": "display_data",
          "data": {
            "image/png": "[encoded data removed]",
            "text/plain": [
              "<Figure size 432x288 with 6 Axes>"
            ]
          },
          "metadata": {
            "tags": [],
            "needs_background": "light"
          }
        }
      ]
    },
    {
      "cell_type": "code",
      "metadata": {
        "id": "ur83Y6CyD9BD"
      },
      "source": [
        "#Normalize\n",
        "\n",
        "train_images, test_images = train_images / 255.0, test_images / 255.0"
      ],
      "execution_count": 9,
      "outputs": []
    },
    {
      "cell_type": "markdown",
      "metadata": {
        "id": "GLm8rNLOm6fj"
      },
      "source": [
        "label_names -- a 10-element list which gives meaningful names to the numeric labels in the labels array described above. For example, label_names[0] == \"airplane\", label_names[1] == \"automobile\", etc."
      ]
    },
    {
      "cell_type": "markdown",
      "metadata": {
        "id": "cvtJxGcDQZDq"
      },
      "source": [
        "Model With Dropout Layer with Hyperparameter 0.5"
      ]
    },
    {
      "cell_type": "code",
      "metadata": {
        "id": "zb0UjmR5PQJN"
      },
      "source": [
        "num_classes = 10\n",
        "\n",
        "model = Sequential([\n",
        "  # layers.experimental.preprocessing.Rescaling(1./255, input_shape=(32, 32, 3)),\n",
        "  layers.Conv2D(16, 3, padding='same', input_shape=(32, 32, 3), activation='relu'),\n",
        "  layers.MaxPooling2D(),\n",
        "  layers.Conv2D(32, 3, padding='same', activation='relu'),\n",
        "  layers.MaxPooling2D(),\n",
        "  layers.Conv2D(64, 3, padding='same', activation='relu'),\n",
        "  layers.MaxPooling2D(),\n",
        "  layers.Dropout(0.5),\n",
        "  layers.Flatten(),\n",
        "  layers.Dense(128, activation='relu'),\n",
        "  layers.Dense(num_classes)\n",
        "])"
      ],
      "execution_count": 61,
      "outputs": []
    },
    {
      "cell_type": "code",
      "metadata": {
        "id": "AhuS9wIlQdYi"
      },
      "source": [
        "model.compile(optimizer='adam',\n",
        "              loss=tf.keras.losses.SparseCategoricalCrossentropy(from_logits=True),\n",
        "              metrics=['accuracy'])"
      ],
      "execution_count": 62,
      "outputs": []
    },
    {
      "cell_type": "code",
      "metadata": {
        "id": "Drbuc6BJQghy",
        "outputId": "68486eb0-62a8-43e2-c45b-5f5ac67f0681",
        "colab": {
          "base_uri": "https://localhost:8080/",
          "height": 493
        }
      },
      "source": [
        "model.summary()"
      ],
      "execution_count": 63,
      "outputs": [
        {
          "output_type": "stream",
          "text": [
            "Model: \"sequential_6\"\n",
            "_________________________________________________________________\n",
            "Layer (type)                 Output Shape              Param #   \n",
            "=================================================================\n",
            "conv2d_18 (Conv2D)           (None, 32, 32, 16)        448       \n",
            "_________________________________________________________________\n",
            "max_pooling2d_18 (MaxPooling (None, 16, 16, 16)        0         \n",
            "_________________________________________________________________\n",
            "conv2d_19 (Conv2D)           (None, 16, 16, 32)        4640      \n",
            "_________________________________________________________________\n",
            "max_pooling2d_19 (MaxPooling (None, 8, 8, 32)          0         \n",
            "_________________________________________________________________\n",
            "conv2d_20 (Conv2D)           (None, 8, 8, 64)          18496     \n",
            "_________________________________________________________________\n",
            "max_pooling2d_20 (MaxPooling (None, 4, 4, 64)          0         \n",
            "_________________________________________________________________\n",
            "dropout_6 (Dropout)          (None, 4, 4, 64)          0         \n",
            "_________________________________________________________________\n",
            "flatten_6 (Flatten)          (None, 1024)              0         \n",
            "_________________________________________________________________\n",
            "dense_12 (Dense)             (None, 128)               131200    \n",
            "_________________________________________________________________\n",
            "dense_13 (Dense)             (None, 10)                1290      \n",
            "=================================================================\n",
            "Total params: 156,074\n",
            "Trainable params: 156,074\n",
            "Non-trainable params: 0\n",
            "_________________________________________________________________\n"
          ],
          "name": "stdout"
        }
      ]
    },
    {
      "cell_type": "code",
      "metadata": {
        "id": "v65C5re7oadU"
      },
      "source": [
        "#Hyper Parameters \n",
        "epochs = 20\n",
        "batch_size = 64"
      ],
      "execution_count": 64,
      "outputs": []
    },
    {
      "cell_type": "code",
      "metadata": {
        "id": "-N588uKnQjr7",
        "outputId": "a5c0b85f-bedf-4538-9f3b-8e606303a6da",
        "colab": {
          "base_uri": "https://localhost:8080/",
          "height": 717
        }
      },
      "source": [
        "history = model.fit(train_images, train_labels, epochs = epochs, batch_size = batch_size,\n",
        "                    \n",
        "                    validation_data=(test_images, test_labels))"
      ],
      "execution_count": 65,
      "outputs": [
        {
          "output_type": "stream",
          "text": [
            "Epoch 1/20\n",
            "782/782 [==============================] - 56s 72ms/step - loss: 1.8088 - accuracy: 0.3348 - val_loss: 1.2673 - val_accuracy: 0.5470\n",
            "Epoch 2/20\n",
            "782/782 [==============================] - 56s 72ms/step - loss: 1.3059 - accuracy: 0.5303 - val_loss: 1.1179 - val_accuracy: 0.6116\n",
            "Epoch 3/20\n",
            "782/782 [==============================] - 57s 72ms/step - loss: 1.1577 - accuracy: 0.5898 - val_loss: 1.0257 - val_accuracy: 0.6392\n",
            "Epoch 4/20\n",
            "782/782 [==============================] - 57s 73ms/step - loss: 1.0617 - accuracy: 0.6223 - val_loss: 0.9781 - val_accuracy: 0.6563\n",
            "Epoch 5/20\n",
            "782/782 [==============================] - 57s 73ms/step - loss: 0.9938 - accuracy: 0.6498 - val_loss: 0.9274 - val_accuracy: 0.6703\n",
            "Epoch 6/20\n",
            "782/782 [==============================] - 56s 72ms/step - loss: 0.9361 - accuracy: 0.6677 - val_loss: 0.8708 - val_accuracy: 0.6914\n",
            "Epoch 7/20\n",
            "782/782 [==============================] - 56s 72ms/step - loss: 0.8937 - accuracy: 0.6838 - val_loss: 0.8265 - val_accuracy: 0.7124\n",
            "Epoch 8/20\n",
            "782/782 [==============================] - 57s 73ms/step - loss: 0.8752 - accuracy: 0.6910 - val_loss: 0.8308 - val_accuracy: 0.7134\n",
            "Epoch 9/20\n",
            "782/782 [==============================] - 57s 73ms/step - loss: 0.8209 - accuracy: 0.7094 - val_loss: 0.8000 - val_accuracy: 0.7242\n",
            "Epoch 10/20\n",
            "782/782 [==============================] - 57s 73ms/step - loss: 0.8022 - accuracy: 0.7120 - val_loss: 0.7856 - val_accuracy: 0.7290\n",
            "Epoch 11/20\n",
            "782/782 [==============================] - 57s 72ms/step - loss: 0.7848 - accuracy: 0.7251 - val_loss: 0.7712 - val_accuracy: 0.7308\n",
            "Epoch 12/20\n",
            "782/782 [==============================] - 57s 73ms/step - loss: 0.7527 - accuracy: 0.7337 - val_loss: 0.7556 - val_accuracy: 0.7365\n",
            "Epoch 13/20\n",
            "782/782 [==============================] - 57s 73ms/step - loss: 0.7367 - accuracy: 0.7406 - val_loss: 0.7642 - val_accuracy: 0.7331\n",
            "Epoch 14/20\n",
            "782/782 [==============================] - 57s 73ms/step - loss: 0.7141 - accuracy: 0.7450 - val_loss: 0.7496 - val_accuracy: 0.7408\n",
            "Epoch 15/20\n",
            "782/782 [==============================] - 58s 74ms/step - loss: 0.6942 - accuracy: 0.7555 - val_loss: 0.7308 - val_accuracy: 0.7468\n",
            "Epoch 16/20\n",
            "782/782 [==============================] - 57s 73ms/step - loss: 0.6766 - accuracy: 0.7598 - val_loss: 0.7367 - val_accuracy: 0.7426\n",
            "Epoch 17/20\n",
            "782/782 [==============================] - 57s 73ms/step - loss: 0.6638 - accuracy: 0.7643 - val_loss: 0.7096 - val_accuracy: 0.7548\n",
            "Epoch 18/20\n",
            "782/782 [==============================] - 57s 72ms/step - loss: 0.6532 - accuracy: 0.7659 - val_loss: 0.7381 - val_accuracy: 0.7451\n",
            "Epoch 19/20\n",
            "782/782 [==============================] - 57s 73ms/step - loss: 0.6345 - accuracy: 0.7734 - val_loss: 0.7114 - val_accuracy: 0.7542\n",
            "Epoch 20/20\n",
            "782/782 [==============================] - 57s 73ms/step - loss: 0.6395 - accuracy: 0.7717 - val_loss: 0.6996 - val_accuracy: 0.7580\n"
          ],
          "name": "stdout"
        }
      ]
    },
    {
      "cell_type": "code",
      "metadata": {
        "id": "htQCIB2BQpNH",
        "outputId": "de6a1ff5-a86f-430a-cb71-5ad3fc1665ea",
        "colab": {
          "base_uri": "https://localhost:8080/",
          "height": 34
        }
      },
      "source": [
        "# Model evaluation\n",
        "scores = model.evaluate(test_images, test_labels, verbose=0)\n",
        "print(\"Accuracy: %.2f%%\" % (scores[1]*100))"
      ],
      "execution_count": 66,
      "outputs": [
        {
          "output_type": "stream",
          "text": [
            "Accuracy: 75.80%\n"
          ],
          "name": "stdout"
        }
      ]
    },
    {
      "cell_type": "code",
      "metadata": {
        "id": "Db6SUWb5TAnN",
        "outputId": "43854171-69d7-460c-e477-16932f51f7bd",
        "colab": {
          "base_uri": "https://localhost:8080/",
          "height": 300
        }
      },
      "source": [
        "plt.plot(history.history['accuracy'], label='accuracy')\n",
        "plt.plot(history.history['val_accuracy'], label = 'val_accuracy')\n",
        "plt.xlabel('Epoch')\n",
        "plt.ylabel('Accuracy')\n",
        "plt.ylim([0.5, 1])\n",
        "plt.legend(loc='lower right')"
      ],
      "execution_count": 67,
      "outputs": [
        {
          "output_type": "execute_result",
          "data": {
            "text/plain": [
              "<matplotlib.legend.Legend at 0x7f4cfcb13e48>"
            ]
          },
          "metadata": {
            "tags": []
          },
          "execution_count": 67
        },
        {
          "output_type": "display_data",
          "data": {
            "image/png": "[encoded data removed]",
            "text/plain": [
              "<Figure size 432x288 with 1 Axes>"
            ]
          },
          "metadata": {
            "tags": [],
            "needs_background": "light"
          }
        }
      ]
    },
    {
      "cell_type": "markdown",
      "metadata": {
        "id": "2h4v22qR2aj8"
      },
      "source": [
        "Predict on new data\n",
        "\n",
        "Finally, let's use our model to classify an image that wasn't included in the training or validation sets.\n",
        "\n"
      ]
    },
    {
      "cell_type": "code",
      "metadata": {
        "id": "yySDkAl-2Ztt",
        "outputId": "97244dc6-599b-4643-e2f4-093af54dcd3a",
        "colab": {
          "base_uri": "https://localhost:8080/",
          "height": 34
        }
      },
      "source": [
        "car_url = \"https://cdn.pixabay.com/photo/2012/05/29/00/43/car-49278_960_720.jpg\"\n",
        "car_path = tf.keras.utils.get_file('car', origin=car_url)\n",
        "\n",
        "img_car = keras.preprocessing.image.load_img(\n",
        "    car_path, target_size=(32, 32)\n",
        ")\n",
        "img_array = keras.preprocessing.image.img_to_array(img_car)\n",
        "img_array = tf.expand_dims(img_array, 0) # Create a batch\n",
        "\n",
        "predictions = model.predict(img_array)\n",
        "score = tf.nn.softmax(predictions[0])\n",
        "\n",
        "print(\n",
        "    \"This image most likely belongs to {} with a {:.2f} percent confidence.\"\n",
        "    .format(train_labels[np.argmax(score)], 100 * np.max(score))\n",
        ")"
      ],
      "execution_count": 10,
      "outputs": [
        {
          "output_type": "stream",
          "text": [
            "This image most likely belongs to [3] with a 100.00 percent confidence.\n"
          ],
          "name": "stdout"
        }
      ]
    },
    {
      "cell_type": "code",
      "metadata": {
        "id": "wtcWtwHLTFoj"
      },
      "source": [
        "model.save(\"model_classification.h5\")"
      ],
      "execution_count": 119,
      "outputs": []
    },
    {
      "cell_type": "code",
      "metadata": {
        "id": "CB9JT6kBKZYN"
      },
      "source": [
        "from keras.models import load_model\n",
        "model = load_model('model_classification.h5')"
      ],
      "execution_count": 5,
      "outputs": []
    }
  ]
}